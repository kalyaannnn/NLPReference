{
  "nbformat": 4,
  "nbformat_minor": 0,
  "metadata": {
    "colab": {
      "provenance": [],
      "mount_file_id": "1w0tYyKjl22IKCijtZMFuuaPlHa-CPDfo",
      "authorship_tag": "ABX9TyMxezEuZyd34vM9YsFTQvSS",
      "include_colab_link": true
    },
    "kernelspec": {
      "name": "python3",
      "display_name": "Python 3"
    },
    "language_info": {
      "name": "python"
    },
    "accelerator": "GPU",
    "gpuClass": "standard"
  },
  "cells": [
    {
      "cell_type": "markdown",
      "metadata": {
        "id": "view-in-github",
        "colab_type": "text"
      },
      "source": [
        "<a href=\"https://colab.research.google.com/github/kalyaannnn/NLPReference/blob/main/WordEmbedding.ipynb\" target=\"_parent\"><img src=\"https://colab.research.google.com/assets/colab-badge.svg\" alt=\"Open In Colab\"/></a>"
      ]
    },
    {
      "cell_type": "code",
      "execution_count": 1,
      "metadata": {
        "colab": {
          "base_uri": "https://localhost:8080/"
        },
        "id": "_DbdQL0gGxjE",
        "outputId": "124f866c-4ac6-4715-e595-e2baae2c5099"
      },
      "outputs": [
        {
          "output_type": "stream",
          "name": "stdout",
          "text": [
            "Looking in indexes: https://pypi.org/simple, https://us-python.pkg.dev/colab-wheels/public/simple/\n",
            "Requirement already satisfied: gensim in /usr/local/lib/python3.8/dist-packages (3.6.0)\n",
            "Requirement already satisfied: smart-open>=1.2.1 in /usr/local/lib/python3.8/dist-packages (from gensim) (6.3.0)\n",
            "Requirement already satisfied: scipy>=0.18.1 in /usr/local/lib/python3.8/dist-packages (from gensim) (1.7.3)\n",
            "Requirement already satisfied: six>=1.5.0 in /usr/local/lib/python3.8/dist-packages (from gensim) (1.15.0)\n",
            "Requirement already satisfied: numpy>=1.11.3 in /usr/local/lib/python3.8/dist-packages (from gensim) (1.21.6)\n"
          ]
        }
      ],
      "source": [
        "pip install gensim"
      ]
    },
    {
      "cell_type": "code",
      "source": [
        "pip install keras"
      ],
      "metadata": {
        "colab": {
          "base_uri": "https://localhost:8080/"
        },
        "id": "iw4dBBbEIZKg",
        "outputId": "ebf551fe-c656-49b9-bef6-c34944a7d47c"
      },
      "execution_count": 2,
      "outputs": [
        {
          "output_type": "stream",
          "name": "stdout",
          "text": [
            "Looking in indexes: https://pypi.org/simple, https://us-python.pkg.dev/colab-wheels/public/simple/\n",
            "Requirement already satisfied: keras in /usr/local/lib/python3.8/dist-packages (2.9.0)\n"
          ]
        }
      ]
    },
    {
      "cell_type": "code",
      "source": [
        "import pandas as pd, numpy as np\n",
        "import seaborn as sns\n",
        "import matplotlib.pyplot as plt"
      ],
      "metadata": {
        "id": "DMKK4lmuId5j"
      },
      "execution_count": 3,
      "outputs": []
    },
    {
      "cell_type": "code",
      "source": [
        "import re\n",
        "import nltk\n",
        "from gensim.utils import simple_preprocess\n",
        "\n",
        "nltk.download('stopwords')"
      ],
      "metadata": {
        "colab": {
          "base_uri": "https://localhost:8080/"
        },
        "id": "zibIMYSFInhD",
        "outputId": "86bb906c-392d-4755-a463-e6daec940cec"
      },
      "execution_count": 4,
      "outputs": [
        {
          "output_type": "stream",
          "name": "stderr",
          "text": [
            "[nltk_data] Downloading package stopwords to /root/nltk_data...\n",
            "[nltk_data]   Unzipping corpora/stopwords.zip.\n"
          ]
        },
        {
          "output_type": "execute_result",
          "data": {
            "text/plain": [
              "True"
            ]
          },
          "metadata": {},
          "execution_count": 4
        }
      ]
    },
    {
      "cell_type": "code",
      "source": [
        "from nltk.corpus import stopwords\n",
        "stop_words = set(stopwords.words('english'))\n",
        "\n",
        "\n",
        "path = '/content/drive/MyDrive/Colab Notebooks/train.csv'\n",
        "df = pd.read_csv(path)[['Body', 'Y']].rename(columns = {'Body': 'question', 'Y': 'category'})\n",
        "df.head()\n",
        "\n",
        "path1 = '/content/drive/MyDrive/Colab Notebooks/valid.csv'\n",
        "dataset = pd.read_csv(path1)[['Body', 'Y']].rename(columns = {'Body': 'question', 'Y': 'category'})"
      ],
      "metadata": {
        "id": "O9Av4VGXK3ek"
      },
      "execution_count": 6,
      "outputs": []
    },
    {
      "cell_type": "code",
      "source": [
        "symbols = re.compile(pattern = '[/<>(){}\\[\\]\\|@,;]')\n",
        "tags = ['href', 'http', 'https', 'www']\n",
        "\n",
        "def text_clean(s: str) -> str:\n",
        "  s = symbols.sub('', s)\n",
        "  for i in tags:\n",
        "    s = s.replace(i, '')\n",
        "\n",
        "  return ' '.join(word for word in simple_preprocess(s) if not word in stop_words)\n"
      ],
      "metadata": {
        "id": "-UsTwvK7M2RO"
      },
      "execution_count": 7,
      "outputs": []
    },
    {
      "cell_type": "code",
      "source": [
        "df.iloc[:, 0] = df.iloc[:, 0].apply(text_clean)\n",
        "dataset.iloc[:, 0] = dataset.iloc[:, 0].apply(text_clean)"
      ],
      "metadata": {
        "id": "xl-xw8gA_mBp"
      },
      "execution_count": 8,
      "outputs": []
    },
    {
      "cell_type": "code",
      "source": [
        "X_train, y_train = df.iloc[:, 0].values, df.iloc[:, 1].values.reshape(-1,1)\n",
        "X_test, y_test = dataset.iloc[:, 0].values, dataset.iloc[:, 1].values.reshape(-1,1)"
      ],
      "metadata": {
        "id": "SQUjgQXeAAzr"
      },
      "execution_count": 9,
      "outputs": []
    },
    {
      "cell_type": "code",
      "source": [
        "from sklearn.preprocessing import OneHotEncoder as ohe\n",
        "from sklearn.compose import ColumnTransformer\n",
        "\n",
        "ct = ColumnTransformer(transformers = [('one_hot_encoder', ohe(categories = 'auto'), [0])],\n",
        "                       remainder = 'passthrough')"
      ],
      "metadata": {
        "id": "tfdWq7X3A1XW"
      },
      "execution_count": 10,
      "outputs": []
    },
    {
      "cell_type": "code",
      "source": [
        "y_train = ct.fit_transform(y_train)\n",
        "y_test = ct.fit(y_test)"
      ],
      "metadata": {
        "id": "HkWNcKQiDwLR"
      },
      "execution_count": 11,
      "outputs": []
    },
    {
      "cell_type": "code",
      "source": [
        "vocab_size = 2000\n",
        "sequence_length = 100"
      ],
      "metadata": {
        "id": "VGk779dID9NJ"
      },
      "execution_count": 12,
      "outputs": []
    },
    {
      "cell_type": "code",
      "source": [
        "from keras.preprocessing.text import Tokenizer\n",
        "\n",
        "tk = Tokenizer(num_words = vocab_size, lower = False)\n",
        "tk.fit_on_texts(X_train)\n",
        "\n",
        "X_train = tk.texts_to_sequences(X_train)\n",
        "X_test = tk.texts_to_sequences(X_test)\n",
        "\n",
        "\n",
        "from tensorflow.keras.preprocessing.sequence import pad_sequences\n",
        "\n",
        "X_train_seq = pad_sequences(X_train, maxlen = sequence_length, padding = 'post')\n",
        "X_test_seq = pad_sequences(X_test, maxlen = sequence_length, padding = 'post')"
      ],
      "metadata": {
        "id": "S4IT8q7lEhJd"
      },
      "execution_count": 20,
      "outputs": []
    },
    {
      "cell_type": "code",
      "source": [
        "from tensorflow.keras.models import Sequential\n",
        "from tensorflow.keras.layers import Dense\n",
        "from tensorflow.keras.layers import Flatten\n",
        "from tensorflow.keras.layers import Embedding\n",
        "from tensorflow.keras.layers import LSTM\n",
        "\n",
        "model = Sequential()\n",
        "model.add(Embedding(input_dim = vocab_size, output_dim = 5, input_length = sequence_length))\n",
        "model.add(LSTM(100))\n",
        "model.add(Flatten())\n",
        "\n",
        "model.add(Dense(units = 3, activation ='softmax'))\n",
        "\n",
        "model.compile(optimizer = 'rmsprop', loss = 'categorical_crossentropy', metrics = ['accuracy'])\n",
        "\n",
        "model.summary()\n",
        "history = model.fit(X_train_seq, y_train, epochs = 20, batch_size = 512, verbose = 1)\n"
      ],
      "metadata": {
        "colab": {
          "base_uri": "https://localhost:8080/"
        },
        "id": "mr-6fSNUHrt2",
        "outputId": "73a6f55b-f0f7-43b8-a4a8-0fbb46ec0bee"
      },
      "execution_count": 21,
      "outputs": [
        {
          "output_type": "stream",
          "name": "stdout",
          "text": [
            "Model: \"sequential\"\n",
            "_________________________________________________________________\n",
            " Layer (type)                Output Shape              Param #   \n",
            "=================================================================\n",
            " embedding (Embedding)       (None, 100, 5)            10000     \n",
            "                                                                 \n",
            " lstm (LSTM)                 (None, 100)               42400     \n",
            "                                                                 \n",
            " flatten (Flatten)           (None, 100)               0         \n",
            "                                                                 \n",
            " dense (Dense)               (None, 3)                 303       \n",
            "                                                                 \n",
            "=================================================================\n",
            "Total params: 52,703\n",
            "Trainable params: 52,703\n",
            "Non-trainable params: 0\n",
            "_________________________________________________________________\n",
            "Epoch 1/20\n",
            "88/88 [==============================] - 8s 15ms/step - loss: 0.9777 - accuracy: 0.4952\n",
            "Epoch 2/20\n",
            "88/88 [==============================] - 1s 14ms/step - loss: 0.7485 - accuracy: 0.6263\n",
            "Epoch 3/20\n",
            "88/88 [==============================] - 1s 14ms/step - loss: 0.6311 - accuracy: 0.6530\n",
            "Epoch 4/20\n",
            "88/88 [==============================] - 1s 14ms/step - loss: 0.5839 - accuracy: 0.6746\n",
            "Epoch 5/20\n",
            "88/88 [==============================] - 1s 14ms/step - loss: 0.5670 - accuracy: 0.6846\n",
            "Epoch 6/20\n",
            "88/88 [==============================] - 1s 14ms/step - loss: 0.5537 - accuracy: 0.6951\n",
            "Epoch 7/20\n",
            "88/88 [==============================] - 1s 14ms/step - loss: 0.5362 - accuracy: 0.7170\n",
            "Epoch 8/20\n",
            "88/88 [==============================] - 1s 14ms/step - loss: 0.5205 - accuracy: 0.7348\n",
            "Epoch 9/20\n",
            "88/88 [==============================] - 1s 14ms/step - loss: 0.5026 - accuracy: 0.7513\n",
            "Epoch 10/20\n",
            "88/88 [==============================] - 1s 14ms/step - loss: 0.4716 - accuracy: 0.7802\n",
            "Epoch 11/20\n",
            "88/88 [==============================] - 1s 14ms/step - loss: 0.4248 - accuracy: 0.8156\n",
            "Epoch 12/20\n",
            "88/88 [==============================] - 1s 14ms/step - loss: 0.3921 - accuracy: 0.8369\n",
            "Epoch 13/20\n",
            "88/88 [==============================] - 1s 14ms/step - loss: 0.3633 - accuracy: 0.8537\n",
            "Epoch 14/20\n",
            "88/88 [==============================] - 1s 14ms/step - loss: 0.3470 - accuracy: 0.8625\n",
            "Epoch 15/20\n",
            "88/88 [==============================] - 1s 14ms/step - loss: 0.3392 - accuracy: 0.8670\n",
            "Epoch 16/20\n",
            "88/88 [==============================] - 1s 14ms/step - loss: 0.3207 - accuracy: 0.8744\n",
            "Epoch 17/20\n",
            "88/88 [==============================] - 1s 14ms/step - loss: 0.3154 - accuracy: 0.8788\n",
            "Epoch 18/20\n",
            "88/88 [==============================] - 1s 14ms/step - loss: 0.3058 - accuracy: 0.8785\n",
            "Epoch 19/20\n",
            "88/88 [==============================] - 1s 16ms/step - loss: 0.2987 - accuracy: 0.8835\n",
            "Epoch 20/20\n",
            "88/88 [==============================] - 1s 16ms/step - loss: 0.2914 - accuracy: 0.8855\n"
          ]
        }
      ]
    },
    {
      "cell_type": "code",
      "source": [
        "\n",
        "plt.plot(history.history['accuracy'], label = 'training')\n",
        "plt.xlabel('Number of Epcohs')\n",
        "plt.ylabel('Accuracy')\n",
        "plt.legend(shadow = True, loc = \"upper left\")\n",
        "plt.title(\"Accuracy over Epochs\")\n",
        "plt.show()\n",
        "\n",
        "plt.plot(history.history['loss'], label = 'training')\n",
        "plt.xlabel('Number of Epcohs')\n",
        "plt.ylabel('Loss')\n",
        "plt.legend(shadow = True, loc = \"upper left\")\n",
        "plt.title(\"Loss over Epochs\")\n",
        "plt.show()\n"
      ],
      "metadata": {
        "colab": {
          "base_uri": "https://localhost:8080/",
          "height": 573
        },
        "id": "kO0667GNKodb",
        "outputId": "0293d958-b627-41b3-ca85-cdaf1cd44f29"
      },
      "execution_count": 25,
      "outputs": [
        {
          "output_type": "display_data",
          "data": {
            "text/plain": [
              "<Figure size 432x288 with 1 Axes>"
            ],
            "image/png": "[encoded data removed]"
          },
          "metadata": {
            "needs_background": "light"
          }
        },
        {
          "output_type": "display_data",
          "data": {
            "text/plain": [
              "<Figure size 432x288 with 1 Axes>"
            ],
            "image/png": "[encoded data removed]"
          },
          "metadata": {
            "needs_background": "light"
          }
        }
      ]
    }
  ]
}